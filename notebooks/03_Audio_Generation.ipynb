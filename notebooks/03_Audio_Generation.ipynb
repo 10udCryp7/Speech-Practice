{
  "nbformat": 4,
  "nbformat_minor": 0,
  "metadata": {
    "colab": {
      "provenance": [],
      "gpuType": "T4",
      "authorship_tag": "ABX9TyObZ5MP+B0KyNyx+2UcQIWG",
      "include_colab_link": true
    },
    "kernelspec": {
      "name": "python3",
      "display_name": "Python 3"
    },
    "language_info": {
      "name": "python"
    },
    "accelerator": "GPU"
  },
  "cells": [
    {
      "cell_type": "markdown",
      "metadata": {
        "id": "view-in-github",
        "colab_type": "text"
      },
      "source": [
        "<a href=\"https://colab.research.google.com/github/10udCryp7/Speech-Practice/blob/main/notebooks/03_Audio_Generation.ipynb\" target=\"_parent\"><img src=\"https://colab.research.google.com/assets/colab-badge.svg\" alt=\"Open In Colab\"/></a>"
      ]
    },
    {
      "cell_type": "code",
      "execution_count": null,
      "metadata": {
        "id": "fa2AfxPewG4y"
      },
      "outputs": [],
      "source": [
        "!pip install -q condacolab\n",
        "import condacolab\n",
        "condacolab.install()"
      ]
    },
    {
      "cell_type": "code",
      "source": [
        "!conda install datasets[audio]"
      ],
      "metadata": {
        "id": "B6VfJU2Cwn6o"
      },
      "execution_count": null,
      "outputs": []
    },
    {
      "cell_type": "code",
      "source": [
        "from transformers import pipeline\n",
        "\n",
        "pipe = pipeline(\"text-to-speech\", model=\"suno/bark-small\")"
      ],
      "metadata": {
        "id": "4-mmSosEwwLm"
      },
      "execution_count": null,
      "outputs": []
    },
    {
      "cell_type": "code",
      "source": [
        "text = \"The sun dipped behind the hills, casting a golden glow over the quiet village. A stray cat darted across the cobblestone path, vanishing into the shadows. Somewhere in the distance, a bell chimed softly, marking the end of another day\"\n",
        "output = pipe(text)\n",
        "\n",
        "output"
      ],
      "metadata": {
        "id": "HtgZguy4xIl_"
      },
      "execution_count": null,
      "outputs": []
    },
    {
      "cell_type": "code",
      "source": [
        "from IPython.display import Audio\n",
        "\n",
        "Audio(output[\"audio\"], rate=output[\"sampling_rate\"])"
      ],
      "metadata": {
        "id": "aMnCMhcWxXjL"
      },
      "execution_count": null,
      "outputs": []
    },
    {
      "cell_type": "code",
      "source": [
        "song = \"♪ In the jungle, the mighty jungle, the ladybug was seen. ♪ \"\n",
        "output = pipe(song)\n",
        "Audio(output[\"audio\"], rate=output[\"sampling_rate\"])"
      ],
      "metadata": {
        "id": "HWtaVcMAxjWI"
      },
      "execution_count": null,
      "outputs": []
    },
    {
      "cell_type": "code",
      "source": [
        "music_pipe = pipeline(\"text-to-audio\", model=\"facebook/musicgen-small\")"
      ],
      "metadata": {
        "id": "LaUWfcbty0os"
      },
      "execution_count": null,
      "outputs": []
    },
    {
      "cell_type": "code",
      "source": [
        "text = \"90s rock song with electric guitar and heavy drums\""
      ],
      "metadata": {
        "id": "nsUY53Srzgx8"
      },
      "execution_count": null,
      "outputs": []
    },
    {
      "cell_type": "code",
      "source": [
        "forward_params = {\"max_new_tokens\": 512}\n",
        "\n",
        "output = music_pipe(text, forward_params=forward_params)\n",
        "Audio(output[\"audio\"][0], rate=output[\"sampling_rate\"])"
      ],
      "metadata": {
        "id": "rwzUsjLJzkS8"
      },
      "execution_count": null,
      "outputs": []
    },
    {
      "cell_type": "code",
      "source": [],
      "metadata": {
        "id": "oeEbCps3zoKx"
      },
      "execution_count": null,
      "outputs": []
    }
  ]
}