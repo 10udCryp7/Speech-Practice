{
  "nbformat": 4,
  "nbformat_minor": 0,
  "metadata": {
    "colab": {
      "provenance": [],
      "gpuType": "T4",
      "authorship_tag": "ABX9TyMnoxWCTDew+vfCI+qrn8nI",
      "include_colab_link": true
    },
    "kernelspec": {
      "name": "python3",
      "display_name": "Python 3"
    },
    "language_info": {
      "name": "python"
    },
    "accelerator": "GPU"
  },
  "cells": [
    {
      "cell_type": "markdown",
      "metadata": {
        "id": "view-in-github",
        "colab_type": "text"
      },
      "source": [
        "<a href=\"https://colab.research.google.com/github/10udCryp7/Speech-Practice/blob/main/notebooks/05_Eval_ASR_Whisper_Small.ipynb\" target=\"_parent\"><img src=\"https://colab.research.google.com/assets/colab-badge.svg\" alt=\"Open In Colab\"/></a>"
      ]
    },
    {
      "cell_type": "code",
      "execution_count": null,
      "metadata": {
        "id": "a2WTMnuhvPWc"
      },
      "outputs": [],
      "source": [
        "!pip install -q condacolab\n",
        "import condacolab\n",
        "condacolab.install()"
      ]
    },
    {
      "cell_type": "code",
      "source": [
        "!conda install datasets"
      ],
      "metadata": {
        "id": "1KabV1J4w25O"
      },
      "execution_count": null,
      "outputs": []
    },
    {
      "cell_type": "code",
      "source": [
        "!conda install evaluate"
      ],
      "metadata": {
        "id": "EpgK10de2r9B"
      },
      "execution_count": null,
      "outputs": []
    },
    {
      "cell_type": "code",
      "source": [
        "!conda install jiwer"
      ],
      "metadata": {
        "id": "uz3t4A443F-B"
      },
      "execution_count": null,
      "outputs": []
    },
    {
      "cell_type": "code",
      "source": [
        "from huggingface_hub import notebook_login\n",
        "\n",
        "notebook_login()"
      ],
      "metadata": {
        "id": "VVrB5VYiwVsq"
      },
      "execution_count": null,
      "outputs": []
    },
    {
      "cell_type": "markdown",
      "source": [
        "# Load Model Pipeline"
      ],
      "metadata": {
        "id": "vxNLacmz3evX"
      }
    },
    {
      "cell_type": "code",
      "source": [
        "from transformers import pipeline\n",
        "\n",
        "model_id = 'openai/whisper-small'\n",
        "task = 'automatic-speech-recognition'\n",
        "\n",
        "pipe = pipeline(task = task, model = model_id)"
      ],
      "metadata": {
        "id": "-6Vd_Ak_vfm2"
      },
      "execution_count": null,
      "outputs": []
    },
    {
      "cell_type": "markdown",
      "source": [
        "# Load Dataset"
      ],
      "metadata": {
        "id": "zKOG_dVi3h-d"
      }
    },
    {
      "cell_type": "code",
      "source": [
        "from datasets import load_dataset\n",
        "\n",
        "common_voice_test = load_dataset(\n",
        "    \"mozilla-foundation/common_voice_13_0\", \"dv\", split=\"test\"\n",
        ")"
      ],
      "metadata": {
        "id": "V46O3wDzwDMA"
      },
      "execution_count": null,
      "outputs": []
    },
    {
      "cell_type": "code",
      "source": [
        "sub_test = common_voice_test.shuffle(seed = 42).select(range(100))"
      ],
      "metadata": {
        "id": "Y6hn8Y0HxUA5"
      },
      "execution_count": null,
      "outputs": []
    },
    {
      "cell_type": "markdown",
      "source": [
        "# Infer"
      ],
      "metadata": {
        "id": "s1tBnTke3oax"
      }
    },
    {
      "cell_type": "code",
      "source": [
        "from tqdm.auto import tqdm\n",
        "from transformers.pipelines.pt_utils import KeyDataset\n",
        "\n",
        "prediction_list = []\n",
        "for prediction in tqdm(\n",
        "    pipe(\n",
        "        KeyDataset(sub_test, 'audio'),\n",
        "        generate_kwargs={\"task\": \"transcribe\", \"max_new_tokens\": 128},\n",
        "        batch_size=16,\n",
        "    ),\n",
        "    total = len(sub_test)\n",
        "):\n",
        "  prediction_list.append(prediction['text'])"
      ],
      "metadata": {
        "id": "kmyCRb8lxph0"
      },
      "execution_count": null,
      "outputs": []
    },
    {
      "cell_type": "code",
      "source": [
        "labels = [sample['sentence'] for sample in sub_test]"
      ],
      "metadata": {
        "id": "bVEsBBqI2YP-"
      },
      "execution_count": null,
      "outputs": []
    },
    {
      "cell_type": "markdown",
      "source": [
        "# Evaluate"
      ],
      "metadata": {
        "id": "E2Ih883i3rqW"
      }
    },
    {
      "cell_type": "code",
      "source": [
        "from evaluate import load\n",
        "\n",
        "\n",
        "compute_metric = load('wer')"
      ],
      "metadata": {
        "id": "rJz9llJP2ny5"
      },
      "execution_count": null,
      "outputs": []
    },
    {
      "cell_type": "code",
      "source": [
        "wer_score = compute_metric.compute(predictions = prediction_list, references = labels)\n",
        "\n",
        "wer_score*100"
      ],
      "metadata": {
        "id": "WTVE1uB93Ar4"
      },
      "execution_count": null,
      "outputs": []
    },
    {
      "cell_type": "markdown",
      "source": [
        "# Eval Norm"
      ],
      "metadata": {
        "id": "gSiag6w36T7J"
      }
    },
    {
      "cell_type": "code",
      "source": [
        "from transformers.models.whisper.english_normalizer import BasicTextNormalizer\n",
        "\n",
        "normalizer = BasicTextNormalizer()\n",
        "\n",
        "labels_norm = [normalizer(label) for label in labels]\n",
        "prediction_list_norm = [normalizer(prediction) for prediction in prediction_list]\n",
        "\n",
        "wer_score_norm = compute_metric.compute(predictions = prediction_list_norm, references = labels_norm)\n",
        "\n",
        "wer_score_norm*100"
      ],
      "metadata": {
        "id": "HGeJ6poq3WJt"
      },
      "execution_count": null,
      "outputs": []
    }
  ]
}